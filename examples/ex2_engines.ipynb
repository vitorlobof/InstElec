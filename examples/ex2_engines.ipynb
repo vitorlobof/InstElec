{
 "cells": [
  {
   "cell_type": "code",
   "execution_count": 1,
   "metadata": {},
   "outputs": [],
   "source": [
    "import sys\n",
    "sys.path.insert(0, '../')"
   ]
  },
  {
   "cell_type": "code",
   "execution_count": 2,
   "metadata": {},
   "outputs": [],
   "source": [
    "import instelec as ie\n",
    "u = ie.ureg # lida com as unidades"
   ]
  },
  {
   "cell_type": "markdown",
   "metadata": {},
   "source": [
    "Neste exemplo veremos como lidar com motores."
   ]
  },
  {
   "cell_type": "markdown",
   "metadata": {},
   "source": [
    "## Criando um motor"
   ]
  },
  {
   "cell_type": "markdown",
   "metadata": {},
   "source": [
    "### As três formas de instanciar"
   ]
  },
  {
   "cell_type": "code",
   "execution_count": 3,
   "metadata": {},
   "outputs": [
    {
     "data": {
      "text/plain": [
       "Active power: 80.0 kilowatt\n",
       "Reactive power: 38.75 kilovolt_ampere_reactive\n",
       "Phase num: 3\n",
       "Efficiency: None"
      ]
     },
     "execution_count": 3,
     "metadata": {},
     "output_type": "execute_result"
    }
   ],
   "source": [
    "eng1 = ie.Engine(ie.PowerTriangle(80*u.kilowatt, 0.9), 3)\n",
    "eng1"
   ]
  },
  {
   "cell_type": "code",
   "execution_count": 13,
   "metadata": {},
   "outputs": [
    {
     "data": {
      "text/plain": [
       "Active power: 94.0 kilowatt\n",
       "Reactive power: 58.25 kilovolt_ampere_reactive\n",
       "Phase num: 1\n",
       "Efficiency: 0.7"
      ]
     },
     "execution_count": 13,
     "metadata": {},
     "output_type": "execute_result"
    }
   ],
   "source": [
    "eng2 = ie.Engine.from_axis_power(75*u.horsepower, 1, 0.85, 0.7)\n",
    "eng2"
   ]
  },
  {
   "cell_type": "code",
   "execution_count": 14,
   "metadata": {},
   "outputs": [
    {
     "data": {
      "text/plain": [
       "Active power: 75.2 kilowatt\n",
       "Reactive power: 46.6 kilovolt_ampere_reactive\n",
       "Phase num: 1\n",
       "Efficiency: 0.7"
      ]
     },
     "execution_count": 14,
     "metadata": {},
     "output_type": "execute_result"
    }
   ],
   "source": [
    "eng3 = ie.Engine.from_nominal_power(75*u.horsepower, 0.8, 1, 0.85, 0.7)\n",
    "eng3"
   ]
  },
  {
   "cell_type": "markdown",
   "metadata": {},
   "source": [
    "### Métodos"
   ]
  },
  {
   "cell_type": "code",
   "execution_count": 15,
   "metadata": {},
   "outputs": [
    {
     "data": {
      "text/html": [
       "80.0 kilowatt"
      ],
      "text/latex": [
       "$80.0\\ \\mathrm{kilowatt}$"
      ],
      "text/plain": [
       "80.0 <Unit('kilowatt')>"
      ]
     },
     "execution_count": 15,
     "metadata": {},
     "output_type": "execute_result"
    }
   ],
   "source": [
    "eng1.demand()"
   ]
  },
  {
   "cell_type": "code",
   "execution_count": 16,
   "metadata": {},
   "outputs": [
    {
     "data": {
      "text/html": [
       "135.05269454728088 ampere"
      ],
      "text/latex": [
       "$135.05269454728088\\ \\mathrm{ampere}$"
      ],
      "text/plain": [
       "135.05269454728088 <Unit('ampere')>"
      ]
     },
     "execution_count": 16,
     "metadata": {},
     "output_type": "execute_result"
    }
   ],
   "source": [
    "eng1.current()"
   ]
  },
  {
   "cell_type": "markdown",
   "metadata": {},
   "source": [
    "## Criando um conjunto de motores"
   ]
  },
  {
   "cell_type": "markdown",
   "metadata": {},
   "source": [
    "Conjuntos de motores recebem um dicionário em que os motores são chaves e os valores são o número de vezes que cada motor aparece."
   ]
  },
  {
   "cell_type": "code",
   "execution_count": 17,
   "metadata": {},
   "outputs": [],
   "source": [
    "eng_group = ie.EngineGroup({eng1: 2, eng2: 1, eng3: 3})"
   ]
  },
  {
   "cell_type": "markdown",
   "metadata": {},
   "source": [
    "### Métodos"
   ]
  },
  {
   "cell_type": "code",
   "execution_count": 18,
   "metadata": {},
   "outputs": [
    {
     "data": {
      "text/html": [
       "418.46768382607934 kilowatt"
      ],
      "text/latex": [
       "$418.46768382607934\\ \\mathrm{kilowatt}$"
      ],
      "text/plain": [
       "418.46768382607934 <Unit('kilowatt')>"
      ]
     },
     "execution_count": 18,
     "metadata": {},
     "output_type": "execute_result"
    }
   ],
   "source": [
    "eng_group.demand()"
   ]
  },
  {
   "cell_type": "code",
   "execution_count": 19,
   "metadata": {},
   "outputs": [
    {
     "data": {
      "text/plain": [
       "[672.2263821735733 <Unit('ampere')>,\n",
       " 772.7566304433261 <Unit('ampere')>,\n",
       " 1074.3473752525847 <Unit('ampere')>]"
      ]
     },
     "execution_count": 19,
     "metadata": {},
     "output_type": "execute_result"
    }
   ],
   "source": [
    "eng_group.current_per_phase()"
   ]
  },
  {
   "cell_type": "code",
   "execution_count": 20,
   "metadata": {},
   "outputs": [
    {
     "data": {
      "text/html": [
       "1074.3473752525847 ampere"
      ],
      "text/latex": [
       "$1074.3473752525847\\ \\mathrm{ampere}$"
      ],
      "text/plain": [
       "1074.3473752525847 <Unit('ampere')>"
      ]
     },
     "execution_count": 20,
     "metadata": {},
     "output_type": "execute_result"
    }
   ],
   "source": [
    "eng_group.charge_current()"
   ]
  },
  {
   "cell_type": "code",
   "execution_count": null,
   "metadata": {},
   "outputs": [],
   "source": []
  }
 ],
 "metadata": {
  "kernelspec": {
   "display_name": "venv",
   "language": "python",
   "name": "python3"
  },
  "language_info": {
   "codemirror_mode": {
    "name": "ipython",
    "version": 3
   },
   "file_extension": ".py",
   "mimetype": "text/x-python",
   "name": "python",
   "nbconvert_exporter": "python",
   "pygments_lexer": "ipython3",
   "version": "3.11.4"
  },
  "orig_nbformat": 4
 },
 "nbformat": 4,
 "nbformat_minor": 2
}
