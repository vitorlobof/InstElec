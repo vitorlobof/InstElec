{
 "cells": [
  {
   "cell_type": "code",
   "execution_count": 1,
   "metadata": {},
   "outputs": [],
   "source": [
    "import sys\n",
    "sys.path.insert(0, '../')"
   ]
  },
  {
   "cell_type": "code",
   "execution_count": 2,
   "metadata": {},
   "outputs": [],
   "source": [
    "import instelec as ie\n",
    "u = ie.ureg # lida com as unidades"
   ]
  },
  {
   "cell_type": "markdown",
   "metadata": {},
   "source": [
    "Neste exemplo veremos como lidar com triângulos de potência."
   ]
  },
  {
   "cell_type": "markdown",
   "metadata": {},
   "source": [
    "## Criando um triângulo de potência."
   ]
  },
  {
   "cell_type": "markdown",
   "metadata": {},
   "source": [
    "### Formas para criar uma instância"
   ]
  },
  {
   "cell_type": "code",
   "execution_count": 3,
   "metadata": {},
   "outputs": [],
   "source": [
    "# A unidade da potência tem que ser kVA, kW ou kvar.\n",
    "\n",
    "power = ie.PowerTriangle(8*u.kilovolt_ampere, 0.8)"
   ]
  },
  {
   "cell_type": "markdown",
   "metadata": {},
   "source": [
    "### Properties"
   ]
  },
  {
   "cell_type": "code",
   "execution_count": 4,
   "metadata": {},
   "outputs": [
    {
     "data": {
      "text/html": [
       "8.0 kilovolt_ampere"
      ],
      "text/latex": [
       "$8.0\\ \\mathrm{kilovolt\\_ampere}$"
      ],
      "text/plain": [
       "8.0 <Unit('kilovolt_ampere')>"
      ]
     },
     "execution_count": 4,
     "metadata": {},
     "output_type": "execute_result"
    }
   ],
   "source": [
    "power.apparent"
   ]
  },
  {
   "cell_type": "code",
   "execution_count": 5,
   "metadata": {},
   "outputs": [
    {
     "data": {
      "text/html": [
       "6.4 kilowatt"
      ],
      "text/latex": [
       "$6.4\\ \\mathrm{kilowatt}$"
      ],
      "text/plain": [
       "6.4 <Unit('kilowatt')>"
      ]
     },
     "execution_count": 5,
     "metadata": {},
     "output_type": "execute_result"
    }
   ],
   "source": [
    "power.active"
   ]
  },
  {
   "cell_type": "code",
   "execution_count": 6,
   "metadata": {},
   "outputs": [
    {
     "data": {
      "text/html": [
       "4.799999999999999 kilovolt_ampere_reactive"
      ],
      "text/latex": [
       "$4.799999999999999\\ \\mathrm{kilovolt\\_ampere\\_reactive}$"
      ],
      "text/plain": [
       "4.799999999999999 <Unit('kilovolt_ampere_reactive')>"
      ]
     },
     "execution_count": 6,
     "metadata": {},
     "output_type": "execute_result"
    }
   ],
   "source": [
    "power.reactive"
   ]
  },
  {
   "cell_type": "code",
   "execution_count": 7,
   "metadata": {},
   "outputs": [
    {
     "data": {
      "text/plain": [
       "0.8"
      ]
     },
     "execution_count": 7,
     "metadata": {},
     "output_type": "execute_result"
    }
   ],
   "source": [
    "power.power_factor"
   ]
  },
  {
   "cell_type": "markdown",
   "metadata": {},
   "source": [
    "### Correção do fator de potência"
   ]
  },
  {
   "cell_type": "markdown",
   "metadata": {},
   "source": [
    "O método power_factor_to recebe um fator de potência e retorna o intervalo de valores de potência reativa a ser adicionado para gerar um fator de potência maior ou igual ao valor dado."
   ]
  },
  {
   "cell_type": "code",
   "execution_count": 8,
   "metadata": {},
   "outputs": [],
   "source": [
    "inf, sup = power.power_factor_to(0.92)"
   ]
  },
  {
   "cell_type": "code",
   "execution_count": 9,
   "metadata": {},
   "outputs": [
    {
     "data": {
      "text/html": [
       "-7.52638858327171 kilovolt_ampere_reactive"
      ],
      "text/latex": [
       "$-7.52638858327171\\ \\mathrm{kilovolt\\_ampere\\_reactive}$"
      ],
      "text/plain": [
       "-7.52638858327171 <Unit('kilovolt_ampere_reactive')>"
      ]
     },
     "execution_count": 9,
     "metadata": {},
     "output_type": "execute_result"
    }
   ],
   "source": [
    "inf"
   ]
  },
  {
   "cell_type": "code",
   "execution_count": 10,
   "metadata": {},
   "outputs": [
    {
     "data": {
      "text/html": [
       "-2.073611416728288 kilovolt_ampere_reactive"
      ],
      "text/latex": [
       "$-2.073611416728288\\ \\mathrm{kilovolt\\_ampere\\_reactive}$"
      ],
      "text/plain": [
       "-2.073611416728288 <Unit('kilovolt_ampere_reactive')>"
      ]
     },
     "execution_count": 10,
     "metadata": {},
     "output_type": "execute_result"
    }
   ],
   "source": [
    "sup"
   ]
  },
  {
   "cell_type": "code",
   "execution_count": null,
   "metadata": {},
   "outputs": [],
   "source": []
  }
 ],
 "metadata": {
  "kernelspec": {
   "display_name": "venv",
   "language": "python",
   "name": "python3"
  },
  "language_info": {
   "codemirror_mode": {
    "name": "ipython",
    "version": 3
   },
   "file_extension": ".py",
   "mimetype": "text/x-python",
   "name": "python",
   "nbconvert_exporter": "python",
   "pygments_lexer": "ipython3",
   "version": "3.11.4"
  },
  "orig_nbformat": 4
 },
 "nbformat": 4,
 "nbformat_minor": 2
}
