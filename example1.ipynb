{
  "cells": [
    {
      "cell_type": "code",
      "execution_count": 1,
      "metadata": {},
      "outputs": [],
      "source": [
        "import instelec as ie\n",
        "u = ie.ureg # lida com as unidades"
      ]
    },
    {
      "cell_type": "markdown",
      "metadata": {},
      "source": [
        "## Motores e grupos"
      ]
    },
    {
      "cell_type": "markdown",
      "metadata": {},
      "source": [
        "Abaixo definiremos os motores que serão usados. Cada motor recebe um triângulo de potência e um número de fases."
      ]
    },
    {
      "cell_type": "code",
      "execution_count": 2,
      "metadata": {},
      "outputs": [],
      "source": [
        "eng1 = ie.Engine(ie.PowerTriangle(8*u.kilovolt_ampere, 0.8), 1)\n",
        "eng2 = ie.Engine(ie.PowerTriangle(35*u.kilovolt_ampere, 0.7), 3)\n",
        "eng3 = ie.Engine(ie.PowerTriangle(11*u.kilovolt_ampere, 0.8), 1)\n",
        "eng4 = ie.Engine(ie.PowerTriangle(26*u.kilovolt_ampere, 0.7), 3)\n",
        "eng5 = ie.Engine(ie.PowerTriangle(17.2*u.kilovolt_ampere, 0.7), 1)\n",
        "eng6 = ie.Engine(ie.PowerTriangle(28*u.kilovolt_ampere, 0.7), 3)\n",
        "eng7 = ie.Engine(ie.PowerTriangle(12.2*u.kilovolt_ampere, 0.8), 1)"
      ]
    },
    {
      "cell_type": "markdown",
      "metadata": {},
      "source": [
        "Cada grupo recebe um dicionário com motores e o número de vezes que aquele motor aparece no grupo."
      ]
    },
    {
      "cell_type": "code",
      "execution_count": 3,
      "metadata": {},
      "outputs": [],
      "source": [
        "ccm1 = ie.EngineGroup({eng1: 2, eng2: 2, eng3: 1})\n",
        "ccm2 = ie.EngineGroup({eng4: 3, eng3: 1, eng5: 1})\n",
        "qdtl = ie.EngineGroup({eng1: 1, eng6: 1, eng7: 3})"
      ]
    },
    {
      "cell_type": "markdown",
      "metadata": {},
      "source": [
        "## Cálculo da seção dos condutores do CCM2."
      ]
    },
    {
      "cell_type": "code",
      "execution_count": 4,
      "metadata": {},
      "outputs": [],
      "source": [
        "ccm2_section = ie.CupperPVC(\n",
        "    'B1',\n",
        "    ccm2.power.power_factor,\n",
        "    ccm2.phase_num\n",
        ")"
      ]
    },
    {
      "cell_type": "markdown",
      "metadata": {},
      "source": [
        "Ao chamar o método .grouping_correction(num), o fator de correção por agrupamento multiplica a tabela de ampacidade."
      ]
    },
    {
      "cell_type": "code",
      "execution_count": 5,
      "metadata": {},
      "outputs": [
        {
          "data": {
            "text/plain": [
              "Material: cupper\n",
              "Insulator: PVC\n",
              "Instalation method: B1\n",
              "Power factor: 0.7130175825070523\n",
              "Phase number: 3"
            ]
          },
          "execution_count": 5,
          "metadata": {},
          "output_type": "execute_result"
        }
      ],
      "source": [
        "ccm2_section.grouping_correction(5)"
      ]
    },
    {
      "cell_type": "markdown",
      "metadata": {},
      "source": [
        "Seção obtida pelo método da ampacidade."
      ]
    },
    {
      "cell_type": "code",
      "execution_count": 6,
      "metadata": {},
      "outputs": [
        {
          "data": {
            "text/html": [
              "240.0 millimeter<sup>2</sup>"
            ],
            "text/latex": [
              "$240.0\\ \\mathrm{millimeter}^{2}$"
            ],
            "text/plain": [
              "240.0 <Unit('millimeter ** 2')>"
            ]
          },
          "execution_count": 6,
          "metadata": {},
          "output_type": "execute_result"
        }
      ],
      "source": [
        "amperage_section = ccm2_section.by_amperage(ccm2.charge_current())\n",
        "amperage_section"
      ]
    },
    {
      "cell_type": "markdown",
      "metadata": {},
      "source": [
        "Seção obtida pelo método da queda de tensão."
      ]
    },
    {
      "cell_type": "code",
      "execution_count": 9,
      "metadata": {},
      "outputs": [
        {
          "data": {
            "text/html": [
              "25 millimeter<sup>2</sup>"
            ],
            "text/latex": [
              "$25\\ \\mathrm{millimeter}^{2}$"
            ],
            "text/plain": [
              "25 <Unit('millimeter ** 2')>"
            ]
          },
          "execution_count": 9,
          "metadata": {},
          "output_type": "execute_result"
        }
      ],
      "source": [
        "voltage_drop_section = ccm2_section.by_voltage_drop(ccm2.charge_current(), 29*u.meter, 0.03)\n",
        "voltage_drop_section"
      ]
    },
    {
      "cell_type": "markdown",
      "metadata": {},
      "source": [
        "Seção obtida pelo método do curto circuito."
      ]
    },
    {
      "cell_type": "code",
      "execution_count": 10,
      "metadata": {},
      "outputs": [
        {
          "data": {
            "text/html": [
              "6.0 millimeter<sup>2</sup>"
            ],
            "text/latex": [
              "$6.0\\ \\mathrm{millimeter}^{2}$"
            ],
            "text/plain": [
              "6.0 <Unit('millimeter ** 2')>"
            ]
          },
          "execution_count": 10,
          "metadata": {},
          "output_type": "execute_result"
        }
      ],
      "source": [
        "short_circuit_section = ccm2_section.by_short_circuit(5*u.kiloampere, 0.01*u.second)\n",
        "short_circuit_section"
      ]
    },
    {
      "cell_type": "markdown",
      "metadata": {},
      "source": [
        "O condutor de fase deve ser o maior dos condutores obtidos anteriormente."
      ]
    },
    {
      "cell_type": "code",
      "execution_count": 11,
      "metadata": {},
      "outputs": [],
      "source": [
        "phase_condutor_section = max(\n",
        "    amperage_section, voltage_drop_section, short_circuit_section)"
      ]
    },
    {
      "cell_type": "code",
      "execution_count": 12,
      "metadata": {},
      "outputs": [
        {
          "data": {
            "text/html": [
              "120.0 millimeter<sup>2</sup>"
            ],
            "text/latex": [
              "$120.0\\ \\mathrm{millimeter}^{2}$"
            ],
            "text/plain": [
              "120.0 <Unit('millimeter ** 2')>"
            ]
          },
          "execution_count": 12,
          "metadata": {},
          "output_type": "execute_result"
        }
      ],
      "source": [
        "protection_condutor = ccm2_section.protection_condutor(phase_condutor_section)\n",
        "protection_condutor"
      ]
    },
    {
      "cell_type": "markdown",
      "metadata": {},
      "source": [
        "## Triângulo de potência geral"
      ]
    },
    {
      "cell_type": "code",
      "execution_count": 13,
      "metadata": {},
      "outputs": [],
      "source": [
        "total_power = ccm1.power + ccm2.power + qdtl.power"
      ]
    },
    {
      "cell_type": "markdown",
      "metadata": {},
      "source": [
        "O fator de potência pode ser chamado a partir do triângulo de potência."
      ]
    },
    {
      "cell_type": "code",
      "execution_count": 14,
      "metadata": {},
      "outputs": [
        {
          "name": "stdout",
          "output_type": "stream",
          "text": [
            "0.7326194206715165\n"
          ]
        }
      ],
      "source": [
        "print(total_power.power_factor)"
      ]
    },
    {
      "cell_type": "markdown",
      "metadata": {},
      "source": [
        "O método power_factor_to retorna os valores de potência reativa que devem ser adicionados para chegar a um fator de potência, respectivamente, capacitivo e indutivo igual ao valor dado."
      ]
    },
    {
      "cell_type": "code",
      "execution_count": 15,
      "metadata": {},
      "outputs": [
        {
          "name": "stdout",
          "output_type": "stream",
          "text": [
            "-234.1844847964845 kilovolt_ampere_reactive\n",
            "-86.93905338543757 kilovolt_ampere_reactive\n"
          ]
        }
      ],
      "source": [
        "inf, sup = total_power.power_factor_to(0.92)\n",
        "print(inf, sup, sep='\\n')"
      ]
    },
    {
      "cell_type": "code",
      "execution_count": null,
      "metadata": {},
      "outputs": [],
      "source": []
    }
  ],
  "metadata": {
    "kernelspec": {
      "display_name": "Python 3",
      "language": "python",
      "name": "python3"
    },
    "language_info": {
      "codemirror_mode": {
        "name": "ipython",
        "version": 3
      },
      "file_extension": ".py",
      "mimetype": "text/x-python",
      "name": "python",
      "nbconvert_exporter": "python",
      "pygments_lexer": "ipython3",
      "version": "3.11.4"
    },
    "orig_nbformat": 4
  },
  "nbformat": 4,
  "nbformat_minor": 2
}
